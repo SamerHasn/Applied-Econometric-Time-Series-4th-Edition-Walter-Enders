{
  "nbformat": 4,
  "nbformat_minor": 0,
  "metadata": {
    "kernelspec": {
      "display_name": "R",
      "language": "R",
      "name": "ir"
    },
    "language_info": {
      "codemirror_mode": "r",
      "file_extension": ".r",
      "mimetype": "text/x-r-source",
      "name": "R",
      "pygments_lexer": "r",
      "version": "3.5.1"
    },
    "colab": {
      "name": "Applied Econometric Time Series.ipynb",
      "provenance": [],
      "collapsed_sections": [],
      "include_colab_link": true
    }
  },
  "cells": [
    {
      "cell_type": "markdown",
      "metadata": {
        "id": "view-in-github",
        "colab_type": "text"
      },
      "source": [
        "<a href=\"https://colab.research.google.com/github/SamerHasn/My-projects/blob/master/Applied%20Econometric%20Time%20Series%20-%20Walter%20Enders%204e.ipynb\" target=\"_parent\"><img src=\"https://colab.research.google.com/assets/colab-badge.svg\" alt=\"Open In Colab\"/></a>"
      ]
    },
    {
      "cell_type": "markdown",
      "metadata": {
        "id": "4mqRxV5kllXL"
      },
      "source": [
        "<center>\r\n",
        "\r\n",
        "<b>Applied Econometric Time Series</b> \r\n",
        "\r\n",
        "4th Edition \r\n",
        "<br/>\r\n",
        "<br/> <b>Walter Enders</b>\r\n",
        "<br/>\r\n",
        "<br/> Coded by:\r\n",
        "<br/> \r\n",
        "[Samer Hasn](https://www.linkedin.com/in/samerhasn/)\r\n",
        "\r\n",
        "</center>\r\n"
      ]
    },
    {
      "cell_type": "markdown",
      "metadata": {
        "id": "On-DFMJD6cJG"
      },
      "source": [
        "# **Chapter 2:  Stationary Time-Series Models**\r\n",
        "\r\n",
        "\r\n"
      ]
    },
    {
      "cell_type": "markdown",
      "metadata": {
        "id": "sQEMuJeMT48S"
      },
      "source": [
        "## **1. Installing and Loading Packages and Data**"
      ]
    },
    {
      "cell_type": "code",
      "metadata": {
        "id": "Phzip81RTy0R"
      },
      "source": [
        "install.packages(\"texreg\") # To organize models summry\r\n",
        "install.packages(\"forecast\") # For ACF/PACF Calc.\r\n",
        "install.packages(\"gridExtra\") #  To equivalently edit graphical parameters by par() for ggplot2\r\n",
        "library(ggplot2)\r\n",
        "library(readxl)\r\n",
        "library(gridExtra)"
      ],
      "execution_count": null,
      "outputs": []
    },
    {
      "cell_type": "code",
      "metadata": {
        "id": "LeeyrjDXnWbx"
      },
      "source": [
        "# Downloading Data\r\n",
        "\r\n",
        "url <- \"http://time-series.net/yahoo_site_admin/assets/docs/quarterly.7775706.xls\"\r\n",
        "destfile <- \"quarterly.xls\"\r\n",
        "curl::curl_download(url, destfile)\r\n",
        "quarterly <- read_excel(destfile)"
      ],
      "execution_count": null,
      "outputs": []
    },
    {
      "cell_type": "code",
      "metadata": {
        "id": "4GOWKf4CkgbI"
      },
      "source": [
        "# ggplot2 Theme Spec.\r\n",
        "\r\n",
        "mytheme <- theme(\r\n",
        "  panel.grid.major = element_blank(),\r\n",
        "  panel.grid.minor = element_blank(),\r\n",
        "  panel.background = element_blank(),\r\n",
        "  legend.position=\"bottom\",\r\n",
        "  axis.text = element_text(size = 12, face=\"bold\"),\r\n",
        "  plot.title = element_text(hjust = 0.5, face = \"bold\")\r\n",
        "  )"
      ],
      "execution_count": null,
      "outputs": []
    },
    {
      "cell_type": "code",
      "metadata": {
        "id": "erc35mXLv77r"
      },
      "source": [
        "# ACF and PACF Calculation Function\r\n",
        "\r\n",
        "myacf <- function(data, h = 12,y.breaks = c(-.5 ,-.25 ,0 ,.25 ,.5 ,.75 ,1) ,\r\n",
        "                    aspect.ratio = 1  ,title=\"\" ,gtheme = theme()) {\r\n",
        "\r\n",
        "  # Organizing Data\r\n",
        "\r\n",
        "s.acf <- forecast::Acf(data ,lag.max= h ,plot=F)\r\n",
        "s.acf <- with(s.acf ,data.frame(lag,acf))\r\n",
        "s.acf <- data.frame(cbind(s.acf ,\"Autocorrelations\"))\r\n",
        "names(s.acf) <- c(\"lag\",\"acf\",\"type\")\r\n",
        "\r\n",
        "s.pacf <- forecast::Pacf(data ,lag.max = h ,plot=F) \r\n",
        "s.pacf <- with(s.pacf, data.frame(lag,acf));\r\n",
        "s.pacf <- data.frame(c(rbind(c(0,1),s.pacf)))\r\n",
        "s.pacf <- data.frame(cbind(s.pacf,\"PACF\"))\r\n",
        "names(s.pacf) <- c(\"lag\",\"acf\",\"type\")\r\n",
        "\r\n",
        "pa <- data.frame(rbind(s.acf,s.pacf))\r\n",
        "names(pa) <- c(\"lags\",\"cf\",\"type\")\r\n",
        "\r\n",
        "  # Plot Spec.\r\n",
        "\r\n",
        "ggplot(pa ,aes(x = lags ,y = cf ,fill = type))+\r\n",
        "  geom_bar(position = \"dodge\", stat = \"identity\")+\r\n",
        "  scale_fill_grey(start = 0.2, end = 0.8) +\r\n",
        "  labs(fill = \"\" ,y = \"\" ,x = \"\" ,title = title)+\r\n",
        "  scale_x_continuous(breaks = c(0:h))+\r\n",
        "  scale_y_continuous(breaks = y.breaks ,limits = c(-.5,1) , expand = c(0, 0))+\r\n",
        "  theme_bw()+\r\n",
        "  geom_line(y = 0)+\r\n",
        "  theme(aspect.ratio = aspect.ratio)+\r\n",
        "  gtheme\r\n",
        "}"
      ],
      "execution_count": null,
      "outputs": []
    },
    {
      "cell_type": "code",
      "metadata": {
        "id": "wNVTN0AYq6LZ"
      },
      "source": [
        "# Multi-lags Ljung-Box Test Orginizer\r\n",
        "\r\n",
        "  # Ljung-Box Test Info. Extractor\r\n",
        "\r\n",
        "lb.test <- function(data ,lags = c(4,8,12),p.value=T,type = \"Ljung-Box\") {\r\n",
        "\r\n",
        "  q <- data.frame(0,0)\r\n",
        "\r\n",
        "  for(i in seq(c(4,8,12))){\r\n",
        "\r\n",
        "    q[i,] <- c(Box.test(data,lags[i],type)$statistic, Box.test(data,lags[i],type)$p.value)\r\n",
        "\r\n",
        "  }\r\n",
        "\r\n",
        "names(q) <- c(\"statistic\",\"p.value\")\r\n",
        "return(q)\r\n",
        "\r\n",
        "}\r\n",
        "\r\n",
        "  # Ljung-Box Test Info. Union\r\n",
        "\r\n",
        "lb.cat <- function(lb.test){\r\n",
        "\r\n",
        "  qcat <- matrix(0,nrow = nrow(lb.test),ncol = 1)\r\n",
        "\r\n",
        "  for(i in 1:nrow(lb.test)){\r\n",
        "\r\n",
        "      qcat[i,] <- paste0(sprintf(\"%.2f (%.3f)\",lb.test[i,1],lb.test[i,2]))\r\n",
        "\r\n",
        "  }\r\n",
        "\r\n",
        "  return(qcat)\r\n",
        "\r\n",
        "}"
      ],
      "execution_count": null,
      "outputs": []
    },
    {
      "cell_type": "markdown",
      "metadata": {
        "id": "-ECmpjPr9-8d"
      },
      "source": [
        "##  **2. Estimates of the Interest Rate Spread**"
      ]
    },
    {
      "cell_type": "markdown",
      "metadata": {
        "id": "V8XSa9V6mhbm"
      },
      "source": [
        "### **2.1.  Preparing Data**\r\n",
        "\r\n",
        "\r\n"
      ]
    },
    {
      "cell_type": "code",
      "metadata": {
        "id": "jII2hUviWGc-"
      },
      "source": [
        "# Interest Rate Spread Data\r\n",
        "\r\n",
        "s <- quarterly$r5 - quarterly$Tbill\r\n",
        "s <- ts(s,\r\n",
        "        start = c(1960, 1),\r\n",
        "        end = c(2012, 4),\r\n",
        "        frequency = 4)"
      ],
      "execution_count": null,
      "outputs": []
    },
    {
      "cell_type": "markdown",
      "metadata": {
        "id": "VcW_ZZWXm-Zw"
      },
      "source": [
        "### **2.2.  Identification Satge**\r\n",
        "\r\n",
        "\r\n"
      ]
    },
    {
      "cell_type": "code",
      "metadata": {
        "id": "t-2MhQp0cQvE"
      },
      "source": [
        "  # Series Plots\r\n",
        "\r\n",
        "par(mfrow = c(2,1),las=1)\r\n",
        "\r\n",
        "plot(s,\r\n",
        "     main = \"Panel a: The Interest Rate Spread\",\r\n",
        "      xlab = \"\", ylab= \"\", ylim = c(-2,4)); abline(a=0,b=0)\r\n",
        "\r\n",
        "ds <- diff(s)\r\n",
        "plot(ds,\r\n",
        "     main=\"Panel B: First-difference of the Spread\",\r\n",
        "      xlab=\"\", ylab= \"\", ylim = c(-3,3)); abline(a=0,b=0)\r\n",
        "\r\n",
        "  # ACF & PACF\r\n",
        "\r\n",
        "myacf(s ,12 , ,.6 ,\"ACF and PACF of The Spread\" ,mytheme)"
      ],
      "execution_count": null,
      "outputs": []
    },
    {
      "cell_type": "markdown",
      "metadata": {
        "id": "StqLDZ73nJUL"
      },
      "source": [
        "### **2.3.  Models Estimate**\r\n",
        "\r\n",
        "\r\n"
      ]
    },
    {
      "cell_type": "code",
      "metadata": {
        "id": "zF2xtGfhnVhD"
      },
      "source": [
        " # AR(7)\r\n",
        "\r\n",
        "ar7 <- arima(s,c(7,0,0), method = \"ML\")\r\n",
        "ar7.ssr <- ssr <- sum((ar7$residuals)^2)\r\n",
        "ar7.q <- lb.test(ar7$residuals)\r\n",
        "ar7.q[1,1]\r\n"
      ],
      "execution_count": null,
      "outputs": []
    },
    {
      "cell_type": "code",
      "metadata": {
        "id": "un_yS80Nne9k"
      },
      "source": [
        " # AR(6)\r\n",
        "\r\n",
        "ar6 <- arima(s,c(6,0,0), method = \"ML\")\r\n",
        "ar6.ssr <- ssr <- sum((ar6$residuals)^2)\r\n",
        "ar6.q <- lb.test(ar6$residuals)"
      ],
      "execution_count": null,
      "outputs": []
    },
    {
      "cell_type": "code",
      "metadata": {
        "id": "-PytTcFtng4k"
      },
      "source": [
        " # AR(2)\r\n",
        "\r\n",
        "ar2 <- arima(s,c(2,0,0), method = \"ML\")\r\n",
        "ar2.ssr <- ssr <- sum((ar2$residuals)^2)\r\n",
        "ar2.q <- lb.test(ar2$residuals)"
      ],
      "execution_count": null,
      "outputs": []
    },
    {
      "cell_type": "code",
      "metadata": {
        "id": "Fng_PK3mnjEk"
      },
      "source": [
        "# AR(1:2&7)\r\n",
        "\r\n",
        "ar27 <- arima(s,c(7,0,0),\r\n",
        "                     fixed = c(NA,NA,0,0,0,0,NA,NA),transform.pars = F,\r\n",
        "                     method = \"ML\")\r\n",
        "ar27.ssr <- ssr <- sum((ar27$residuals)^2)\r\n",
        "ar27.q <- lb.test(ar27$residuals)"
      ],
      "execution_count": null,
      "outputs": []
    },
    {
      "cell_type": "code",
      "metadata": {
        "id": "nNseiZL5nlJM"
      },
      "source": [
        "# ARMA(1,1)\r\n",
        "\r\n",
        "arma11 <- arima(s,c(1,0,1),\r\n",
        "                     method = \"ML\")\r\n",
        "arma11.ssr <- ssr <- sum((arma11$residuals)^2)\r\n",
        "arma11.q <- lb.test(arma11$residuals)"
      ],
      "execution_count": null,
      "outputs": []
    },
    {
      "cell_type": "code",
      "metadata": {
        "id": "dvzNNEHKnouG"
      },
      "source": [
        "# ARMA(2,1)\r\n",
        "\r\n",
        "arma21 <- arima(s,c(2,0,1),\r\n",
        "                     method = \"ML\")\r\n",
        "arma21.ssr <- ssr <- sum((arma21$residuals)^2)\r\n",
        "arma21.q <- lb.test(arma21$residuals)"
      ],
      "execution_count": null,
      "outputs": []
    },
    {
      "cell_type": "code",
      "metadata": {
        "id": "GT8jxVCBcIBR"
      },
      "source": [
        "# ARMA(2,(1,7))\r\n",
        "\r\n",
        "arma217 <- arima(s,c(2,0,7),\r\n",
        "                     fixed = c(NA,NA,NA,0,0,0,0,0,NA,NA),transform.pars = F,\r\n",
        "                     method = \"ML\")\r\n",
        "arma217.ssr <- ssr <- sum((arma217$residuals)^2)\r\n",
        "arma217.q <- lb.test(arma217$residuals)"
      ],
      "execution_count": null,
      "outputs": []
    },
    {
      "cell_type": "markdown",
      "metadata": {
        "id": "r9NVdJDDnvKj"
      },
      "source": [
        "### **2.4.  Models Summary**\r\n",
        "\r\n",
        "\r\n"
      ]
    },
    {
      "cell_type": "code",
      "metadata": {
        "id": "pioGm7GaaxaM"
      },
      "source": [
        "cat(\"Table 2.4 Estimates of the Interest Rate Spread\",\r\n",
        "\r\n",
        "  texreg::screenreg(list(ar7,ar6,ar2,ar27,arma11,arma21,arma217),\r\n",
        "                  center=T,\r\n",
        "                 \r\n",
        "                  custom.model.names = \r\n",
        "                    c(\"AR(7)\",\"AR(6)\",\"AR(2)\",\"p=1,2,7\",\r\n",
        "                      \"ARMA(1,1)\",\"ARMA(2,1)\",\"p=2;q=(1,7)\"),\r\n",
        "                  \r\n",
        "                  omit.coef = \"(ma2)|(ma3)|(ma4)|(ma4)|(ma5)|(ma6)\",\r\n",
        "                  \r\n",
        "                  custom.coef.names= \r\n",
        "                    c(\"\\U03B1\\u2081\",\"\\U03B1\\u2082\",\"\\U03B1\\u2083\",\r\n",
        "                      \"\\U03B1\\u2084\",\"\\U03B1\\u2085\",\"\\U03B1\\u2086\",\r\n",
        "                      \"\\U03B1\\u2087\",\r\n",
        "                      \"\\U03B1\\u2080\",\"\\U03B2\\U2081\",\"\\U03B2\\U2087\"),\r\n",
        "                  reorder.coef= c(8,1,2,3,4,5,6,7,9,10),\r\n",
        "                  \r\n",
        "                  custom.gof.rows= list(\r\n",
        "                    \r\n",
        "                    \"SSR\"= c(ar7.ssr,ar6.ssr,ar2.ssr,ar27.ssr,\r\n",
        "                             arma11.ssr,arma21.ssr,arma217.ssr),\r\n",
        "                    \r\n",
        "                    \"Q4\" = c(ar7.q[1,1],ar6.q[1,1],\r\n",
        "                             ar2.q[1,1],ar27.q[1,1],\r\n",
        "                             arma11.q[1,1],arma21.q[1,1],\r\n",
        "                             arma217.q[1,1]),\r\n",
        "                    \r\n",
        "                    \"Q8\" = c(ar7.q[2,1],ar6.q[2,1],\r\n",
        "                             ar2.q[2,1],ar27.q[2,1],\r\n",
        "                             arma11.q[2,1],arma21.q[2,1],\r\n",
        "                             arma217.q[2,1]),\r\n",
        "                    \r\n",
        "                    \"Q12\" = c(ar7.q[3,1],ar6.q[3,1],\r\n",
        "                             ar2.q[3,1],ar27.q[3,1],\r\n",
        "                             arma11.q[3,1],arma21.q[3,1],\r\n",
        "                             arma217.q[3,1])\r\n",
        "                  ),reorder.gof = c(1,5,6,2,3,4),\r\n",
        "                  include.nobs = F,\r\n",
        "                  include.loglik = F,\r\n",
        "                  custom.note=\"*** p.value < 0.001; ** p.value < 0.01; * p.value < 0.05\"\r\n",
        "  )\r\n",
        ")"
      ],
      "execution_count": null,
      "outputs": []
    },
    {
      "cell_type": "markdown",
      "metadata": {
        "id": "Ejrm9PlsaAQ9"
      },
      "source": [
        "## **3. Seasonality**"
      ]
    },
    {
      "cell_type": "markdown",
      "metadata": {
        "id": "pq9FYNq6aI80"
      },
      "source": [
        "### **3.1. Preparing Data**"
      ]
    },
    {
      "cell_type": "code",
      "metadata": {
        "id": "XCDP7YVxaQ5d"
      },
      "source": [
        "# M1 Data\r\n",
        "\r\n",
        "m1 <- quarterly$M1NSA\r\n",
        "m1t <- ts(m1,\r\n",
        "        start = c(1960, 1),\r\n",
        "        end = c(2012, 4),\r\n",
        "        frequency=4)\r\n",
        "m1d <- diff(log(m1))\r\n",
        "\r\n",
        "date <- seq(as.Date(\"1960/1/1\"), as.Date(\"2012/12/31\"), by = \"quarter\")\r\n",
        "\r\n",
        "m1 <- data.frame(date,m1)\r\n",
        "m1d <- data.frame(date[-1],m1d)\r\n",
        "names(m1d) <- c(\"date\",\"m1d\")\r\n",
        "\r\n",
        "m1sd <- diff(m1d$m1d,4) # To Seasonally Difference M1 Growth"
      ],
      "execution_count": null,
      "outputs": []
    },
    {
      "cell_type": "markdown",
      "metadata": {
        "id": "855QJw4Oor4g"
      },
      "source": [
        "### **3.2. Identification M1 Series**"
      ]
    },
    {
      "cell_type": "code",
      "metadata": {
        "id": "cjyn1Pnva-iX",
        "colab": {
          "base_uri": "https://localhost:8080/",
          "height": 437
        },
        "outputId": "b0a58775-1e10-4709-ed45-c6b231acb5fb"
      },
      "source": [
        "# M1\r\n",
        "\r\n",
        "m1dts <- ggplot()+\r\n",
        "  geom_line(data = m1d, aes(x=date, y = m1d), linetype = 1)+\r\n",
        "  theme_bw()+ \r\n",
        "  mytheme+\r\n",
        "  geom_hline(yintercept = 0)\r\n",
        "\r\n",
        "# M1 Growth\r\n",
        "\r\n",
        "m1ts <- ggplot()+\r\n",
        "  geom_line(data = m1, aes(x = date, y = m1), linetype = 2)+\r\n",
        "  theme_bw()+\r\n",
        "  mytheme+\r\n",
        "  scale_y_continuous(expand = c(0,0))\r\n",
        "\r\n",
        "gridExtra::grid.arrange(m1ts, m1dts, nrow = 2)"
      ],
      "execution_count": 28,
      "outputs": [
        {
          "output_type": "display_data",
          "data": {
            "image/png": "[encoded data removed]",
            "text/plain": [
              "plot without title"
            ]
          },
          "metadata": {
            "tags": [],
            "image/png": {
              "width": 420,
              "height": 420
            }
          }
        }
      ]
    },
    {
      "cell_type": "code",
      "metadata": {
        "id": "ifRCmtdEvBGu",
        "colab": {
          "base_uri": "https://localhost:8080/",
          "height": 437
        },
        "outputId": "0f0c2d4e-dd61-4402-d4c8-a91c152c6096"
      },
      "source": [
        "m1dp <- myacf(m1d$m1d ,22 , c(-.4,-.2 ,0 ,.2 ,.4 ,.6 ,.8 ,1), .3,\"Panel a: M1 Growth\",mytheme)\r\n",
        "\r\n",
        "m1dsp <- myacf(m1sd ,22 , c(-.4,-.2 ,0 ,.2 ,.4 ,.6 ,.8 ,1), .3,\"Panel b: Seasonally Differenced M1 Growth\", mytheme)\r\n",
        "\r\n",
        "gridExtra::grid.arrange(m1dp, m1dsp, nrow = 2)"
      ],
      "execution_count": 29,
      "outputs": [
        {
          "output_type": "display_data",
          "data": {
            "image/png": "[encoded data removed]",
            "text/plain": [
              "plot without title"
            ]
          },
          "metadata": {
            "tags": [],
            "image/png": {
              "width": 420,
              "height": 420
            }
          }
        }
      ]
    },
    {
      "cell_type": "markdown",
      "metadata": {
        "id": "qmPqLjypozKs"
      },
      "source": [
        "### **3.3 SARIMA Models Estimate**"
      ]
    },
    {
      "cell_type": "code",
      "metadata": {
        "id": "b6GII7ZVZlpp"
      },
      "source": [
        "# Model 1: AR(1) with Seasonal MA\r\n",
        "\r\n",
        "sarma1 <- arima(log(m1$m1),c(1,1,4),\r\n",
        "                fixed = c(NA,0,0,0,NA),\r\n",
        "                seasonal = list(order= c(0,1,0), period=4),\r\n",
        "                transform.pars=F,\r\n",
        "                include.mean=F,\r\n",
        "                method = \"ML\")\r\n",
        "\r\n",
        "sarma1.ssr <- sum((sarma1$residuals)^2)\r\n",
        "sarma1.q <- lb.test(sarma1$residuals)\r\n",
        "sarma1.q <- lb.cat(sarma1.q)\r\n",
        "\r\n",
        "p <- exp(predict(sarma1,12)$pred)\r\n",
        "\r\n",
        "sarma1$coef[2] <- NA # To fit sreencreg function well"
      ],
      "execution_count": null,
      "outputs": []
    },
    {
      "cell_type": "code",
      "metadata": {
        "id": "HZnzL84jwsKC"
      },
      "source": [
        "# Model 2: Multiplicative Autoregressive\r\n",
        "\r\n",
        "sarma2 <- arima(m1sd,c(1,0,0),\r\n",
        "                seasonal = list(order= c(1,0,0), period=4),\r\n",
        "                transform.pars=F,\r\n",
        "                include.mean=F,\r\n",
        "                method = \"ML\")\r\n",
        "\r\n",
        "sarma2.ssr <- sum((sarma2$residuals)^2)\r\n",
        "sarma2.q <- lb.test(sarma2$residuals)\r\n",
        "sarma2.q <- lb.cat(sarma2.q)"
      ],
      "execution_count": null,
      "outputs": []
    },
    {
      "cell_type": "code",
      "metadata": {
        "id": "-YaaoJ5z0dKP"
      },
      "source": [
        "# Model 3: Multiplicative Moving Average\r\n",
        "\r\n",
        "sarma3 <- arima(m1sd,c(0,0,1),\r\n",
        "                seasonal = list(order= c(0,0,1), period=4),\r\n",
        "                transform.pars=F,\r\n",
        "                include.mean=F,\r\n",
        "                method = \"ML\")\r\n",
        "\r\n",
        "sarma3.ssr <- sum((sarma3$residuals)^2)\r\n",
        "sarma3.q <- lb.test(sarma3$residuals)\r\n",
        "sarma3.q <- lb.cat(sarma3.q)"
      ],
      "execution_count": null,
      "outputs": []
    },
    {
      "cell_type": "markdown",
      "metadata": {
        "id": "7Xl1nDFp11wy"
      },
      "source": [
        "### **3.4 Models Summary**"
      ]
    },
    {
      "cell_type": "code",
      "metadata": {
        "id": "nxMEePJa19Sf"
      },
      "source": [
        "\r\n",
        "cat(\"Table 2.5 Three Models of Money Growth\",\r\n",
        "\r\n",
        "  texreg::screenreg(list(sarma1,sarma2,sarma3),\r\n",
        "                 \r\n",
        "                  custom.model.names = \r\n",
        "                    c(\"   Model 1\" , \"   Model 2\" , \"   Model 3\"),   \r\n",
        "\r\n",
        "                  ##              \r\n",
        "\r\n",
        "                 omit.coef = \"(ar2)|(ar3)|(ma2)|(ma3)\",\r\n",
        "                 custom.coef.names = c(\"\\U03B1\\u2081\" ,\"\\U03B2\\u2081\" ,\r\n",
        "                                       \"\\U03B2\\u2084\" ,\"\\U03B1\\U2084\" ,\"\\U03B2\\U2084\"),\r\n",
        "                 reorder.coef = c(1,4,2,3),\r\n",
        "\r\n",
        "                  ##\r\n",
        "\r\n",
        "                  custom.gof.rows= list(\r\n",
        "                    \"SSR\"= c(sarma1.ssr,sarma2.ssr,sarma3.ssr),\r\n",
        "                    \"Q4\" = c(sarma1.q[1], sarma2.q[1], sarma3.q[1]), \r\n",
        "                    \"Q8\" = c(sarma1.q[2], sarma2.q[2], sarma3.q[2]),\r\n",
        "                    \"Q12\" = c(sarma1.q[3], sarma2.q[3], sarma3.q[3])),\r\n",
        "                  reorder.gof = c(1,5,6,2,3,4),\r\n",
        "                  include.nobs = F,\r\n",
        "                  include.loglik = F,\r\n",
        "                  column.spacing = 2,\r\n",
        "                  custom.note = \"*** p.value < 0.001; ** p.value < 0.01; * p.value < 0.05\"\r\n",
        "  )\r\n",
        ")"
      ],
      "execution_count": null,
      "outputs": []
    },
    {
      "cell_type": "markdown",
      "metadata": {
        "id": "1-4c2XC__4Y_"
      },
      "source": [
        "### **3.4. Forecasting**"
      ]
    },
    {
      "cell_type": "code",
      "metadata": {
        "id": "Z2-y25zyrE2J"
      },
      "source": [
        " # Preparing Plotting Data\r\n",
        "\r\n",
        "pd <- seq(as.Date(\"2013/1/1\"), as.Date(\"2015/12/31\"), by = \"quarter\")\r\n",
        "pf <- data.frame(pd ,p ,\"Forecasts\")\r\n",
        "names(pf) <- c(\"date\" ,\"m1\" ,\"type\")\r\n",
        "\r\n",
        "m1.2000 <- m1[date>=\"2000-1-1\",]\r\n",
        "m1.2000 <- cbind(m1.2000,\"type\" = \"M1 in Billions\")\r\n",
        "\r\n",
        "m1p <- data.frame(rbind(m1.2000, pf))\r\n",
        "\r\n",
        "  # ggplot Spec.\r\n",
        "\r\n",
        "ggplot(data=m1p ,aes(x=date,y=m1, linetype = type))+\r\n",
        "  geom_line()+\r\n",
        "\r\n",
        "  scale_x_continuous(breaks = seq(as.Date(\"2000/1/1\"), as.Date(\"2015/12/31\"), by = \"year\"),\r\n",
        "                     labels=c(\"2000\",\"\",\"2002\",\"\",\"2004\",\"\",\r\n",
        "                               \"2006\",\"\",\"2008\",\"\",\"2010\",\"\",\"2012\",\"\",\"2014\",\"\"))+\r\n",
        "  scale_y_continuous(limits = c(1000,3500), expand = c(0, 0))+\r\n",
        "  scale_linetype_manual(name=\"\", values=c(\"dashed\",\"solid\"))+\r\n",
        "\r\n",
        "  labs(fill = \"\" ,y=\"\" ,x=\"\" , title = \"FIGURE 2.9 Forecasts of M1\")+\r\n",
        "  theme_bw()+\r\n",
        "  mytheme+\r\n",
        "  theme(aspect.ratio=.7)"
      ],
      "execution_count": null,
      "outputs": []
    }
  ]
}