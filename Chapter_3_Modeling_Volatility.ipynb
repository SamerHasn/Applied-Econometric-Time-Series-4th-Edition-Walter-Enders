{
  "nbformat": 4,
  "nbformat_minor": 0,
  "metadata": {
    "kernelspec": {
      "display_name": "R",
      "language": "R",
      "name": "ir"
    },
    "language_info": {
      "codemirror_mode": "r",
      "file_extension": ".r",
      "mimetype": "text/x-r-source",
      "name": "R",
      "pygments_lexer": "r",
      "version": "3.5.1"
    },
    "colab": {
      "name": "Chapter 3: Modeling Volatility.ipynb",
      "provenance": [],
      "collapsed_sections": [
        "sQEMuJeMT48S",
        "uVys6cA__4Wy",
        "c2ElHx1tklw_"
      ],
      "include_colab_link": true
    }
  },
  "cells": [
    {
      "cell_type": "markdown",
      "metadata": {
        "id": "view-in-github",
        "colab_type": "text"
      },
      "source": [
        "<a href=\"https://colab.research.google.com/github/SamerHasn/Applied-Econometric-Time-Series-4th-Edition-Walter-Enders/blob/master/Chapter_3_Modeling_Volatility.ipynb\" target=\"_parent\"><img src=\"https://colab.research.google.com/assets/colab-badge.svg\" alt=\"Open In Colab\"/></a>"
      ]
    },
    {
      "cell_type": "markdown",
      "metadata": {
        "id": "4mqRxV5kllXL"
      },
      "source": [
        "<center>\r\n",
        "\r\n",
        "<b>Applied Econometric Time Series</b><br/>\r\n",
        "<b>Chapter 3: Modeling Volatility</b> \r\n",
        "<br/>\r\n",
        "4th Edition \r\n",
        "<br/>\r\n",
        "<br/> <b>Walter Enders</b>\r\n",
        "<br/>\r\n",
        "<br/> Coded by:\r\n",
        "<br/> \r\n",
        "[Samer Hasn](https://www.linkedin.com/in/samerhasn/)\r\n",
        "\r\n",
        "</center>\r\n"
      ]
    },
    {
      "cell_type": "markdown",
      "metadata": {
        "id": "sQEMuJeMT48S"
      },
      "source": [
        "# **1. Installing and Loading Packages and Data**"
      ]
    },
    {
      "cell_type": "code",
      "metadata": {
        "id": "Phzip81RTy0R"
      },
      "source": [
        "install.packages(\"texreg\")    # To organize models summary\r\n",
        "install.packages(\"forecast\")  # For ACF/PACF Calc.\r\n",
        "install.packages(\"gridExtra\") # To equivalently edit the graphical parameter mfrow() by par() for ggplot2\r\n",
        "install.packages(\"rugarch\")   # For GARCH models\r\n",
        "install.packages(\"garchx\")    # For simple ARCH/GARCH processes simulation\r\n",
        "install.packages(\"dynlm\")     # To conduct a manual ARCH test\r\n",
        "\r\n",
        "library(texreg)\r\n",
        "library(ggplot2)\r\n",
        "library(readxl)\r\n",
        "library(gridExtra)\r\n",
        "library(rugarch)\r\n",
        "library(zoo)\r\n",
        "library(garchx)\r\n",
        "library(dynlm)"
      ],
      "execution_count": null,
      "outputs": []
    },
    {
      "cell_type": "code",
      "metadata": {
        "id": "LeeyrjDXnWbx"
      },
      "source": [
        "# Downloading \"quarterly\" Data\r\n",
        "\r\n",
        "url <- \"http://time-series.net/yahoo_site_admin/assets/docs/quarterly.7775706.xls\"\r\n",
        "destfile <- \"quarterly.xls\"\r\n",
        "curl::curl_download(url, destfile)\r\n",
        "quarterly <- read_excel(destfile)\r\n",
        "\r\n",
        "# Downloading \"Real\" Data\r\n",
        "\r\n",
        "url <- \"http://time-series.net/yahoo_site_admin/assets/docs/Real.38134309.xls\"\r\n",
        "destfile <- \"Real.xls\"\r\n",
        "curl::curl_download(url, destfile)\r\n",
        "real <- read_excel(destfile)\r\n",
        "real[,1] <- seq(as.Date(\"1947/1/1\"), as.Date(\"2012/12/31\"), by = \"quarter\")\r\n",
        "\r\n",
        "# Downloading \"NYSE U.S.100\" Data\r\n",
        "\r\n",
        "url <- \"http://time-series.net/yahoo_site_admin/assets/docs/NYSEReturns.38135430.xlsx\"\r\n",
        "destfile <- \"NYSEReturns.xlsx\"\r\n",
        "curl::curl_download(url, destfile)\r\n",
        "nyse <- read_excel(destfile)\r\n",
        "\r\n",
        "# Downloading \"Exchange Rate\" Data\r\n",
        "\r\n",
        "url <- \"http://time-series.net/yahoo_site_admin/assets/docs/ExRatesdaily.38134659.xls\"\r\n",
        "destfile <- \"ExRates.xls\"\r\n",
        "curl::curl_download(url, destfile)\r\n",
        "ExRates <- read_excel(destfile, \r\n",
        "    col_types = c(\"date\", \"numeric\", \"numeric\", \r\n",
        "        \"numeric\"))\r\n",
        "\r\n",
        "# Downloading \"OIL\" Data\r\n",
        "\r\n",
        "url <- \"http://time-series.net/yahoo_site_admin/assets/docs/oil.38135455.xls\"\r\n",
        "destfile <- \"oil.xls\"\r\n",
        "curl::curl_download(url, destfile)\r\n",
        "oil <- read_excel(destfile, col_types = c(\"date\", \r\n",
        "    \"numeric\"))"
      ],
      "execution_count": null,
      "outputs": []
    },
    {
      "cell_type": "code",
      "metadata": {
        "id": "qTkqeg3bE8oa"
      },
      "source": [
        "# Multi-lags Ljung-Box Test Orginizer\r\n",
        "\r\n",
        "  # Ljung-Box Test Info. Extractor\r\n",
        "  \r\n",
        "lb.test <- function(data ,lags = c(4,8,12),p.value=T,type = \"Ljung-Box\") {\r\n",
        " \r\n",
        "  q <- data.frame(0,0)\r\n",
        " \r\n",
        "  for(i in seq(c(4,8,12))){\r\n",
        " \r\n",
        "    q[i,] <- c(Box.test(data,lags[i],type)$statistic, Box.test(data,lags[i],type)$p.value)\r\n",
        " \r\n",
        "  }\r\n",
        " \r\n",
        "names(q) <- c(\"statistic\",\"p.value\")\r\n",
        "row.names(q) <- (sprintf(\"Q(%d)\" ,lags))\r\n",
        " \r\n",
        "return(q)\r\n",
        " \r\n",
        "}\r\n",
        " \r\n",
        "  # Ljung-Box Test Info. Union\r\n",
        " \r\n",
        "lb.cat <- function(lb.test){\r\n",
        " \r\n",
        "  qcat <- matrix(0,nrow = nrow(lb.test),ncol = 1)\r\n",
        " \r\n",
        "  for(i in 1:nrow(lb.test)){\r\n",
        " \r\n",
        "      qcat[i,] <- paste0(sprintf(\"%.2f (%.3f)\",lb.test[i,1],lb.test[i,2]))\r\n",
        " \r\n",
        "  }\r\n",
        " \r\n",
        "  return(qcat)\r\n",
        " \r\n",
        "}"
      ],
      "execution_count": null,
      "outputs": []
    },
    {
      "cell_type": "code",
      "metadata": {
        "id": "hdw7AfvJBI_V"
      },
      "source": [
        "# To customize rugarch with texreg packages. Many thanks to Emil at Stackoverflow. \r\n",
        "  # https://stackoverflow.com/questions/57312645/how-to-export-garch-output-to-latex\r\n",
        "\r\n",
        "extract.rugarch <- function(fit,  \r\n",
        "                            include.loglike = TRUE, include.aic = TRUE, \r\n",
        "                            include.bic = TRUE) \r\n",
        "{\r\n",
        "  \r\n",
        "  # extract coefficient table from fit:\r\n",
        "  coefnames <- rownames(as.data.frame(fit@fit$coef))\r\n",
        "  coefs <- fit@fit$coef\r\n",
        "  se <- as.vector(fit@fit$matcoef[, c(2)])\r\n",
        "  pvalues <-  as.vector(fit@fit$matcoef[, c(4)])       # numeric vector with p-values\r\n",
        "  \r\n",
        "  # create empty GOF vectors and subsequently add GOF statistics from model:\r\n",
        "  gof <- numeric()\r\n",
        "  gof.names <- character()\r\n",
        "  gof.decimal <- logical()\r\n",
        "  \r\n",
        "  if (include.loglike == TRUE) {\r\n",
        "    loglike <- fit@fit$LLH\r\n",
        "    gof <- c(gof, loglike)\r\n",
        "    gof.names <- c(gof.names, \"Log likelihood\")\r\n",
        "    gof.decimal <- c(gof.decimal, TRUE)\r\n",
        "  }\r\n",
        "  if (include.aic == TRUE) {\r\n",
        "    aic <- infocriteria(fit)[c(1)]\r\n",
        "    gof <- c(gof, aic)\r\n",
        "    gof.names <- c(gof.names, \"AIC\")\r\n",
        "    gof.decimal <- c(gof.decimal, TRUE)\r\n",
        "  }\r\n",
        "  \r\n",
        "  if (include.bic == TRUE) {\r\n",
        "    bic <- infocriteria(fit)[c(2)]\r\n",
        "    gof <- c(gof, bic)\r\n",
        "    gof.names <- c(gof.names, \"BIC\")\r\n",
        "    gof.decimal <- c(gof.decimal, TRUE)\r\n",
        "  }\r\n",
        "  \r\n",
        "  # create texreg object:\r\n",
        "  tr <- createTexreg(\r\n",
        "    coef.names = coefnames, \r\n",
        "    coef = coefs,\r\n",
        "    se = se,\r\n",
        "    pvalues = pvalues, \r\n",
        "    gof.names = gof.names, \r\n",
        "    gof = gof, \r\n",
        "    gof.decimal = gof.decimal\r\n",
        "  )\r\n",
        "  return(tr)\r\n",
        "}"
      ],
      "execution_count": null,
      "outputs": []
    },
    {
      "cell_type": "code",
      "metadata": {
        "id": "4GOWKf4CkgbI"
      },
      "source": [
        "# ggplot2 Theme Spec.\r\n",
        "\r\n",
        "mytheme <- theme(\r\n",
        "  panel.grid.major = element_blank(),\r\n",
        "  panel.grid.minor = element_blank(),\r\n",
        "  panel.background = element_blank(),\r\n",
        "  legend.position=\"bottom\",\r\n",
        "  axis.text = element_text(size = 12, face=\"bold\"),\r\n",
        "  plot.title = element_text(hjust = 0.5, face = \"bold\")\r\n",
        "  )"
      ],
      "execution_count": null,
      "outputs": []
    },
    {
      "cell_type": "code",
      "metadata": {
        "id": "erc35mXLv77r"
      },
      "source": [
        "# Plot two ACFs in one graph\r\n",
        "\r\n",
        "myacf <- function(data.list, h = 8,y.breaks = seq(-.5,1,.25) ,\r\n",
        "                  aspect.ratio = 1  ,title=\"\",data.name=c(\"ACF1\",\"ACF2\") ,gtheme = theme()) {\r\n",
        "  \r\n",
        "  # Organizing Data\r\n",
        "  \r\n",
        "  acfs <- data.list\r\n",
        "  acfs <- lapply(acfs,forecast::Acf,lag.max= h ,plot=F)\r\n",
        "  acf1 <- cbind(cbind(acfs[[1]]$acf),data.name[1])\r\n",
        "  acf2 <- cbind(cbind(acfs[[2]]$acf),data.name[2])\r\n",
        "  acfs <- data.frame(rep(0:h,2),rbind(acf1,acf2))\r\n",
        "  \r\n",
        "  names(acfs) <- c(\"lag\",\"acf\",\"type\")\r\n",
        "  acfs <- acfs[-c(1,h+2),]\r\n",
        "  \r\n",
        "  twose <- c(2/sqrt(length(acf1)),- 2/sqrt(length(acf1)))\r\n",
        "\r\n",
        "  # Plot Spec.\r\n",
        "  \r\n",
        "  ggplot(acfs ,aes(x = lag ,y = as.numeric(acf) ,fill = type))+\r\n",
        "    geom_hline(yintercept=twose,linetype=2,color = \"blue\")+\r\n",
        "    geom_bar(position = \"dodge\", stat = \"identity\")+\r\n",
        "    scale_fill_grey(start = 0.2, end = 0.8) +\r\n",
        "    labs(fill = \"\" ,y = \"\" ,x = \"\" ,title = title)+\r\n",
        "    scale_x_continuous(breaks = c(0:h+1))+\r\n",
        "    scale_y_continuous(breaks = y.breaks ,limits = c(y.breaks[1],y.breaks[length(y.breaks)]) ,\r\n",
        "                       expand = c(0, 0))+\r\n",
        "    theme_bw()+\r\n",
        "    geom_line(y = 0)+\r\n",
        "    theme(aspect.ratio = aspect.ratio)+\r\n",
        "    gtheme\r\n",
        "}"
      ],
      "execution_count": null,
      "outputs": []
    },
    {
      "cell_type": "code",
      "metadata": {
        "id": "wNVTN0AYq6LZ"
      },
      "source": [
        "# Multi-lags Ljung-Box Test Orginizer\r\n",
        "\r\n",
        "  # Ljung-Box Test Info. Extractor\r\n",
        "\r\n",
        "lb.test <- function(data ,lags = c(4,8,12),p.value=T,type = \"Ljung-Box\") {\r\n",
        "\r\n",
        "  q <- data.frame(0,0)\r\n",
        "\r\n",
        "  for(i in seq(c(4,8,12))){\r\n",
        "\r\n",
        "    q[i,] <- c(Box.test(data,lags[i],type)$statistic, Box.test(data,lags[i],type)$p.value)\r\n",
        "\r\n",
        "  }\r\n",
        "\r\n",
        "names(q) <- c(\"statistic\",\"p.value\")\r\n",
        "return(q)\r\n",
        "\r\n",
        "}\r\n",
        "\r\n",
        "  # Ljung-Box Test Info. Union\r\n",
        "\r\n",
        "lb.cat <- function(lb.test){\r\n",
        "\r\n",
        "  qcat <- matrix(0,nrow = nrow(lb.test),ncol = 1)\r\n",
        "\r\n",
        "  for(i in 1:nrow(lb.test)){\r\n",
        "\r\n",
        "      qcat[i,] <- paste0(sprintf(\"%.2f (%.3f)\",lb.test[i,1],lb.test[i,2]))\r\n",
        "\r\n",
        "  }\r\n",
        "\r\n",
        "  return(qcat)\r\n",
        "\r\n",
        "}"
      ],
      "execution_count": null,
      "outputs": []
    },
    {
      "cell_type": "markdown",
      "metadata": {
        "id": "uVys6cA__4Wy"
      },
      "source": [
        "# **2. Economic Time Series:the Stylized Facts**"
      ]
    },
    {
      "cell_type": "code",
      "metadata": {
        "id": "osSztfpIAGrO"
      },
      "source": [
        "ggplot(real)+\r\n",
        "   geom_line(aes(x=DATE ,y = Rinv ,linetype=\"solid\"))+\r\n",
        "   geom_line(aes(x=DATE ,y = RCons  ,linetype=\"dotted\"))+\r\n",
        "   geom_line(aes(x=DATE ,y = Potential ,linetype=\"dotdash\"))+\r\n",
        "   geom_line(aes(x=DATE ,y = RGDP ,linetype=\"dashed\"))+\r\n",
        "   \r\n",
        "   scale_linetype_manual(values =c(1,3,2,4),name = \"\"\r\n",
        "                        ,labels = c(\"GDP\",\"Potential\",\"Consumption\",\"Investment\"))+\r\n",
        "   scale_x_continuous(name=\"\" ,breaks = seq(as.Date(\"1950/1/1\"), as.Date(\"2012/12/31\"), by = \"10 year\"),\r\n",
        "                     labels=as.character(seq(1950, 2010, 10)))+\r\n",
        "   scale_y_continuous(name=\"\" ,limits = c(0,15000), expand = c(0, 0),breaks = seq(0,15000,2500))+\r\n",
        "   labs(title = \"FIGURE 3.1 Real GDP, Consumption, and Investment\")+\r\n",
        "\r\n",
        "   theme_bw()+ \r\n",
        "   theme(aspect.ratio = .8)+\r\n",
        "   mytheme"
      ],
      "execution_count": null,
      "outputs": []
    },
    {
      "cell_type": "code",
      "metadata": {
        "id": "jC_RBzUA8Kwr"
      },
      "source": [
        "dgdp <- diff(log(real$RGDP)*400)\r\n",
        "dgdp.date <- seq(as.Date(\"1947/4/1\"), as.Date(\"2012/12/31\"), by = \"quarter\")\r\n",
        "dgdp <- data.frame(dgdp.date,dgdp)\r\n",
        "ggplot(dgdp)+\r\n",
        "\r\n",
        "   geom_line(aes(x=dgdp.date ,y = dgdp))+\r\n",
        "   geom_hline(yintercept = 0)+\r\n",
        "   \r\n",
        "   scale_x_continuous(name=\"\" ,breaks = seq(as.Date(\"1950/1/1\"), as.Date(\"2012/12/31\"), by = \"10 year\"),\r\n",
        "                     labels=as.character(seq(1950, 2010, 10)))+\r\n",
        "   scale_y_continuous(name=\"\" ,limits = c(-15,20), expand = c(0, 0),breaks = seq(-15,20,5))+\r\n",
        "   labs(x = \"\" ,y = \"\" ,title = \"FIGURE 3.2 Annualized Growth Rate of Real GDP\")+\r\n",
        "\r\n",
        "   theme_bw()+\r\n",
        "   theme(aspect.ratio = .6)+ \r\n",
        "   mytheme"
      ],
      "execution_count": null,
      "outputs": []
    },
    {
      "cell_type": "code",
      "metadata": {
        "id": "dobYIWmOC9dT"
      },
      "source": [
        "nyse.ts <- ts(diff(log(as.numeric(nyse$RETURN)) ,1 ), \r\n",
        "                start = c(2000,1), end = c(2012,7), frequency = 365)\r\n",
        "                \r\n",
        "plot(nyse.ts ,ylab= \"Percentage change\",xlab=\"\" ,\r\n",
        "        main = \"FIGURE 3.3 Percentage Change in the NYSE U.S.100\\n (January 4, 2000 – July 16, 2012)\", las = 1) \r\n",
        "abline(h = 0)"
      ],
      "execution_count": null,
      "outputs": []
    },
    {
      "cell_type": "code",
      "metadata": {
        "id": "4NxMSGOkGZdE"
      },
      "source": [
        "quarterly$DATE <- seq(as.Date(\"1960/4/1\") , as.Date(\"2013/1/1\") , by = \"quarter\")\r\n",
        "\r\n",
        "ggplot(quarterly)+\r\n",
        "\r\n",
        "   geom_line(aes(x=DATE ,y = Tbill, group =1, linetype=\"dotted\"))+\r\n",
        "   geom_line(aes(x=DATE ,y =r5, group =1, linetype=\"solid\"))+\r\n",
        "\r\n",
        "   scale_linetype_manual(values =c(1,3),name = \"\"\r\n",
        "                        ,labels = c(\"T-bill\",\"5-year\"))+\r\n",
        "  \r\n",
        "   scale_x_continuous(name=\"\" ,breaks = seq(as.Date(\"1960/1/1\"), as.Date(\"2012/12/31\"), by = \"10 year\"),\r\n",
        "                      labels=as.character(seq(1960, 2010, 10)))+\r\n",
        "   scale_y_continuous(name=\"\" ,limits = c(0,16), expand = c(0, 0),breaks = seq(0,16,2))+\r\n",
        "   labs(x = \"\" ,y = \"\" ,title = \"FIGURE 3.4 Short-and Long-Term Interest Rates\")+\r\n",
        "\r\n",
        "   theme_bw()+\r\n",
        "   theme(aspect.ratio = .6)+ \r\n",
        "   mytheme"
      ],
      "execution_count": null,
      "outputs": []
    },
    {
      "cell_type": "code",
      "metadata": {
        "id": "7SfGhtfOzzF0"
      },
      "source": [
        "lables <- data.frame( x = ExRates[length(ExRates),1],\r\n",
        "                      y = as.numeric(matrix(c(ExRates[length(ExRates),-c(1,4)],\r\n",
        "                                                1/ExRates[length(ExRates),-c(1:3)]),3,1))\r\n",
        "          )          \r\n",
        "          \r\n",
        "ggplot(ExRates)+\r\n",
        "\r\n",
        "  geom_line(aes(x = observation_date ,y = Pound),linetype = \"dotted\")+\r\n",
        "  geom_line(aes(x = observation_date ,y = Euro) ,linetype = \"solid\")+\r\n",
        "  geom_line(aes(x = observation_date ,y = 1/SW) ,linetype = \"dashed\")+\r\n",
        "  geom_text(data = lables ,aes(x=observation_date\t,y=y),\r\n",
        "    label=c(\" Euro\",\"     Pound\",\"        SW. Franc\"), \r\n",
        "    nudge_y = .09\r\n",
        "  )+\r\n",
        "\r\n",
        " # scale_x_date(breaks = seq(as.Date(\"2000/1/1\"), as.Date(\"2012/12/31\"), by = \"2 year\"))+\r\n",
        "  scale_y_continuous(name=\"\" ,limits = c(.5,2.25) ,expand = c(0, 0) ,breaks = seq(.5,2.25,.25))+\r\n",
        "  labs(x = \"\" ,y = \"\" ,title = \"FIGURE 3.5 Daily Exchange Rates (January 3, 2000 – April 4, 2013)\")+\r\n",
        "\r\n",
        "  theme_bw()+\r\n",
        "  theme(aspect.ratio = .7)+ \r\n",
        "  mytheme"
      ],
      "execution_count": null,
      "outputs": []
    },
    {
      "cell_type": "code",
      "metadata": {
        "id": "mONj2qZmJTJV"
      },
      "source": [
        "ggplot(oil, aes(x=Date, y = Spot))+\r\n",
        "\r\n",
        "  geom_line()+\r\n",
        " \r\n",
        "  scale_y_continuous(name=\"\" ,limits = c(0,150) ,expand = c(0, 0) ,breaks = seq(0,150,25))+\r\n",
        "  labs(x = \"\" ,y = \"\" ,title = \"FIGURE 3.6 Weekly Values ofthe Spot Price of Oil\\n (May15,1987 – November 1, 2013)\")+\r\n",
        "\r\n",
        " theme_bw()+\r\n",
        " theme(aspect.ratio = .7)+ \r\n",
        " mytheme"
      ],
      "execution_count": null,
      "outputs": []
    },
    {
      "cell_type": "markdown",
      "metadata": {
        "id": "c2ElHx1tklw_"
      },
      "source": [
        "# **3. ARCH Processes**"
      ]
    },
    {
      "cell_type": "code",
      "metadata": {
        "id": "9jGrfa1gl7HW"
      },
      "source": [
        "# FIGURE 3.7 Simulated ARCH Processes\r\n",
        "\r\n",
        "panel.a <- ts(rnorm(100))\r\n",
        "panel.b <- garchxSim(100, arch = 0.8, garch = 0)\r\n",
        "panel.c <- arima.sim(n = 100, list(ar = .2))\r\n",
        "panel.d <- arima.sim(n = 100, list(ar = .9))\r\n",
        "\r\n",
        "par(mfrow = c(2,2), las=1)\r\n",
        "\r\n",
        "plot(panel.a, main = expression(paste(\"White-noise process \",plain(v[t]))),\r\n",
        "      ylab = \"\" ,xlab = \"Panel (a)\")\r\n",
        "abline(h=0, lty= 3)\r\n",
        "\r\n",
        "plot(panel.b, main = expression(paste(epsilon[t]*sqrt(1 + 0.8*epsilon[t-1]^2))),\r\n",
        "      ylab = \"\" ,xlab = \"Panel (b)\")\r\n",
        "abline(h=0, lty= 3)\r\n",
        "\r\n",
        "plot(panel.c, main = expression(paste(y[t],\" = \" ,plain(0.2*y[t-1]) ,\" + \",epsilon[t])),\r\n",
        "      ylab = \"\" ,xlab = \"Panel (c)\")\r\n",
        "abline(h=0, lty= 3)\r\n",
        "\r\n",
        "plot(panel.d, main = expression(paste(y[t],\" = \" ,plain(0.9*y[t-1]) ,\" + \",epsilon[t])),\r\n",
        "      ylab = \"\" ,xlab = \"Panel (d)\")\r\n",
        "abline(h=0, lty= 3)"
      ],
      "execution_count": null,
      "outputs": []
    },
    {
      "cell_type": "markdown",
      "metadata": {
        "id": "xWIyI3zgxWcJ"
      },
      "source": [
        "# **4. Three Examples of GARCH Models**"
      ]
    },
    {
      "cell_type": "markdown",
      "metadata": {
        "id": "KRXVQ_erGUoX"
      },
      "source": [
        "## **4.1. A GARCH Model of Oil Prices**"
      ]
    },
    {
      "cell_type": "code",
      "metadata": {
        "id": "RO10iIPHxb7O"
      },
      "source": [
        "# ARMA model residuals diagnostics\n",
        " \n",
        "oil.arma <- arima(100*diff(log(oil$Spot)), c(0,0,3), fixed = c(NA,0,NA,NA))\n",
        "oil.arma$coef[2] <- NA\n",
        " \n",
        "res <- oil.arma$residuals\n",
        "sq.res <- res^2\n",
        " \n",
        "myacf(list(res,sq.res),\n",
        "      aspect.ratio = .5,\n",
        "      y.breaks = seq(-.1,.25,.05),\n",
        "      data.name =c(\"ACF of the residuals\",\"ACF of the squared residuals\"),\n",
        "      gtheme = mytheme,\n",
        "      title = \"ACFs of the Residuals and Squared Residuals\")"
      ],
      "execution_count": null,
      "outputs": []
    },
    {
      "cell_type": "code",
      "metadata": {
        "id": "-L-Ynm517F-I"
      },
      "source": [
        "# ARMA model residuals diagnostics (contiued)\r\n",
        "\r\n",
        "res.ar <- dynlm(sq.res ~ L(sq.res,1) + L(sq.res,2) + L(sq.res,3) + L(sq.res,4))\r\n",
        "\r\n",
        "print(screenreg(list(oil.arma,res.ar),\r\n",
        "                 omit.coef = \"(ma2)\",\r\n",
        "\r\n",
        "                 include.nobs = F,\r\n",
        "                 include.loglik = F,\r\n",
        "                 include.aic=F,\r\n",
        "                 include.bic=F,\r\n",
        "                 include.rsquared = F,\r\n",
        "                 include.pseudors = F,\r\n",
        "                 include.adjrs = F,\r\n",
        "                 include.fstatistic=T,\r\n",
        "\r\n",
        "                 custom.gof.names = \"F statistic\\n(Variance model)\",\r\n",
        "                 custom.model.names = c(\"Mean Eq.\", \"Variance Eq.\"),\r\n",
        "                 custom.coef.names = c(\"\\U03B8\\u2081\",\"\\U03B8\\u2083\",\"\\u03BC\",\r\n",
        "                                        \"\\U03C9\",\"\\U03B2\\u2081\",\"\\U03B2\\u2082\",\r\n",
        "                                        \"\\U03B2\\u2083\",\"\\U03B2\\u2084\"),\r\n",
        "                 reorder.coef = c(3,1,2,4,5,6,7,8),\r\n",
        "                 \r\n",
        "                 groups = list(\"Mean Equation\" = 1:3, \"Variance Equation\" = 4:8)\r\n",
        "                 )\r\n",
        ")"
      ],
      "execution_count": null,
      "outputs": []
    },
    {
      "cell_type": "code",
      "metadata": {
        "id": "3MjZQfSu-plZ"
      },
      "source": [
        "# Alterntive model of oil price - GARCH model\n",
        " \n",
        "oil.garch <- rugarch::ugarchspec(variance.model = list(garchOrder = c(1, 1)),\n",
        "                    mean.model = list(armaOrder = c(0,1), include.mean = TRUE),\n",
        "                    )\n",
        "oil.garch <- ugarchfit(oil.garch,100*diff(log(oil$Spot)))\n",
        " \n",
        "# NOTE: The order of a GARCH model within rugarch is specified as (q,p) NOT (p,q).\n",
        " \n",
        "print(screenreg(extract.rugarch(oil.garch,F,F,F),\n",
        "                custom.coef.names = c(\"\\u03BC\",\"\\U03B2\\u2081\",\"\\U03C9\",\n",
        "                                        \"\\U03B1\\u2081\",\"\\U03B2\\u2081\"),\n",
        "                 \n",
        "                 custom.model.names = \"Oil price model\",\n",
        "                 reorder.coef = c(1,2,4,5,3),\n",
        "                 groups = list(\"Mean Equation\" = 1:2, \"Variance Equation\" = 3:5),\n",
        "                 digits = 3\n",
        "                 )\n",
        "      )"
      ],
      "execution_count": null,
      "outputs": []
    },
    {
      "cell_type": "code",
      "metadata": {
        "id": "7D3HOigarctv"
      },
      "source": [
        "# GARCH model Standardized residuals diagnostics\n",
        " \n",
        "  # NOTE 1: Dr. Enders stated that \"The diagnostics on the standardized residuals [in the book] are wrong \n",
        "          # although the squared residuals are correct.\"\n",
        " \n",
        "  # NOTE 2: Ljung-Box test conducted manually. ugarchfit reports the test automatically.\n",
        " \n",
        "std.res <- oil.garch@fit$z\n",
        "std.sq.res <- oil.garch@fit$z^2 # or manually <- oil.garch@fit$residuals^2/oil.garch@fit$sigma^2\n",
        " \n",
        "myacf(list(std.res,std.sq.res),\n",
        "      aspect.ratio = .5,\n",
        "      y.breaks = seq(-.05,.15,.05),\n",
        "      data.name =c(\"ACF of the Standardized residuals\",\"ACF of the Standardized squared residuals\"),\n",
        "      gtheme = mytheme,\n",
        "      title = \"ACFs of the Standardized Residuals and Squared Residuals\")\n",
        " \n",
        "cat(\"Ljung-Box test for remaining serial correlation in the standarized residuals\\n\\n\")\n",
        "print(lb.test(std.res), digits = 3)\n",
        "cat(\"\\nfor standarized squared residuals\\n\\n\")\n",
        "print(lb.test(std.sq.res), digits = 4)"
      ],
      "execution_count": null,
      "outputs": []
    },
    {
      "cell_type": "code",
      "metadata": {
        "id": "wjPQQ2ZisREC"
      },
      "source": [
        "myacf1 <- function(data.list, h = 8,y.breaks = seq(-.5,1,.25) ,\r\n",
        "                  aspect.ratio = 1  ,title=\"\",data.name=c(\"ACF1\",\"ACF2\") ,gtheme = theme()) {\r\n",
        "  \r\n",
        "  # Organizing Data\r\n",
        "  \r\n",
        "  acfs <- data.list\r\n",
        "  acfs <- lapply(acfs,forecast::Acf,lag.max= h ,plot=F)\r\n",
        "  acf1 <- cbind(cbind(acfs[[1]]$acf),data.name[1])\r\n",
        "  acf2 <- cbind(cbind(acfs[[2]]$acf),data.name[2])\r\n",
        "  acfs <- data.frame(rep(0:h,2),rbind(acf1,acf2))\r\n",
        "  \r\n",
        "  names(acfs) <- c(\"lag\",\"acf\",\"type\")\r\n",
        "  acfs <- acfs[-c(1,h+2),]\r\n",
        "  \r\n",
        "  twose <- c(2/sqrt(length(acf1)),- 2/sqrt(length(acf1)))\r\n",
        "\r\n",
        "  # Plot Spec.\r\n",
        "  \r\n",
        "  ggplot(acfs ,aes(x = lag ,y = as.numeric(acf) ,fill = type))+\r\n",
        "    geom_hline(yintercept=twose,linetype=2,color = \"blue\")+\r\n",
        "    geom_bar(position = \"dodge\", stat = \"identity\")+\r\n",
        "    scale_fill_grey(start = 0.2, end = 0.8) +\r\n",
        "    labs(fill = \"\" ,y = \"\" ,x = \"\" ,title = title)+\r\n",
        "    scale_x_continuous(breaks = c(0:h+1))+\r\n",
        "    scale_y_continuous(breaks = y.breaks ,limits = c(y.breaks[1],y.breaks[length(y.breaks)]) ,\r\n",
        "                       expand = c(0, 0))+\r\n",
        "    theme_bw()+\r\n",
        "    geom_line(y = 0)+\r\n",
        "    theme(aspect.ratio = aspect.ratio)+\r\n",
        "    gtheme\r\n",
        "}\r\n",
        "\r\n",
        "myacf1(list(std.res,std.sq.res),\r\n",
        "      aspect.ratio = .5,\r\n",
        "      y.breaks = seq(-.05,.15,.05),\r\n",
        "      data.name =c(\"ACF of the Standardized residuals\",\"ACF of the Standardized squared residuals\"),\r\n",
        "      gtheme = mytheme,\r\n",
        "      title = \"ACFs of the Standardized Residuals and Squared Residuals\")"
      ],
      "execution_count": null,
      "outputs": []
    },
    {
      "cell_type": "markdown",
      "metadata": {
        "id": "B2Mv9BXeKej1"
      },
      "source": [
        "## **4.2 Volatility Moderation**"
      ]
    },
    {
      "cell_type": "code",
      "metadata": {
        "id": "6JnwSiyIKnCK",
        "cellView": "form"
      },
      "source": [
        "#@title\n",
        "dgdp <- diff(log(real$RGDP))\n",
        " \n",
        "gdp.ar <- arima(dgdp,c(1,0,0))\n",
        "gdp.res <- gdp.ar$residuals\n",
        "gdp.sq.res <- gdp.res^2\n",
        "gdp.q <- lb.test(gdp.res)\n",
        " \n",
        "real$dummy <- 1\n",
        "real$dummy[1:which(real$DATE==\"1983-10-01\")] <- 0\n",
        " \n",
        "gdp.sq.res.ar <- dynlm(gdp.sq.res ~ L(gdp.sq.res,1) + L(gdp.sq.res,2) + L(gdp.sq.res,3) + L(gdp.sq.res,4))\n",
        " \n",
        "print(screenreg(list(gdp.ar,gdp.sq.res.ar),digits = 3,\n",
        " \n",
        "                 include.nobs = F,\n",
        "                 include.loglik = F,\n",
        "                 include.aic=F,\n",
        "                 include.bic=F,\n",
        "                 include.rsquared = F,\n",
        "                 include.pseudors = F,\n",
        "                 include.adjrs = F,\n",
        "                 include.fstatistic=T,\n",
        " \n",
        "                 custom.gof.names = \"F statistic\\n(Variance model)\",\n",
        "                 custom.model.names = c(\"Mean Eq.\", \"Variance Eq.\"),\n",
        "                 custom.coef.names = c(\"\\U03D5\\u2081\",\"\\u03BC\",\n",
        "                                        \"\\U03C9\",\"\\U03B2\\u2081\",\"\\U03B2\\u2082\",\n",
        "                                        \"\\U03B2\\u2083\",\"\\U03B2\\u2084\"),\n",
        "                 reorder.coef = c(2,1,3,4,5,6,7),\n",
        " \n",
        "                 custom.gof.rows= list(\n",
        "                    \"Q(4)\" = c(gdp.q[1,1],NA),  \n",
        "                    \"Q(8)\" = c(gdp.q[2,1],NA),\n",
        "                    \"Q(12)\" = c(gdp.q[3,1],NA)\n",
        "                  ),\n",
        " \n",
        "                 groups = list(\"Mean Equation\" = 1:2, \"Variance Equation\" = 3:7)\n",
        "        )\n",
        ")"
      ],
      "execution_count": null,
      "outputs": []
    },
    {
      "cell_type": "code",
      "metadata": {
        "id": "SKShDQ2IZbug"
      },
      "source": [
        "gdp.garch.s <- rugarch::ugarchspec(variance.model = list(garchOrder = c(1,0),external.regressors = matrix(real$dummy)),\n",
        "                                  mean.model = list(armaOrder = c(1,0), include.mean = TRUE)\n",
        "                    )\n",
        " \n",
        "gdp.garch <- ugarchfit(gdp.garch.s,dgdp)\n",
        "gdp.garch"
      ],
      "execution_count": null,
      "outputs": []
    },
    {
      "cell_type": "markdown",
      "metadata": {
        "id": "4_bwff_A0jdk"
      },
      "source": [
        "# (To be continued soon)"
      ]
    }
  ]
}