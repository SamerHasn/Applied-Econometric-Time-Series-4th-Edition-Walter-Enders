{
  "nbformat": 4,
  "nbformat_minor": 0,
  "metadata": {
    "colab": {
      "name": "SYP Exchange Rate.ipynb",
      "provenance": [],
      "collapsed_sections": [],
      "authorship_tag": "ABX9TyPMrS1cYRmvFO1dG+/M+H6K",
      "include_colab_link": true
    },
    "kernelspec": {
      "name": "ir",
      "display_name": "R"
    }
  },
  "cells": [
    {
      "cell_type": "markdown",
      "metadata": {
        "id": "view-in-github",
        "colab_type": "text"
      },
      "source": [
        "<a href=\"https://colab.research.google.com/github/SamerHasn/My-projects/blob/master/SYP_Exchange_Rate.ipynb\" target=\"_parent\"><img src=\"https://colab.research.google.com/assets/colab-badge.svg\" alt=\"Open In Colab\"/></a>"
      ]
    },
    {
      "cell_type": "markdown",
      "metadata": {
        "id": "A60v7dDob_xS",
        "colab_type": "text"
      },
      "source": [
        "The following R code exports an organized comma-separated values file (csv) containing a time series of Syrian pound exchange rates (closing rates) against U.S. dollar or Euro, from February of 2015 to the last recoded closing rate. The orginal provider of the data is [sp-today.com](https://sp-today.com/). The data has a lot of **missing values**, and may or may not exactly represent the real exchange rates in the Syrian market."
      ]
    },
    {
      "cell_type": "markdown",
      "metadata": {
        "id": "PDfSePtEhics",
        "colab_type": "text"
      },
      "source": [
        "**Installing required packages**\n",
        "\n",
        "If you are running this code for the first time in your account; run the following cell just for once to install two required R packages."
      ]
    },
    {
      "cell_type": "code",
      "metadata": {
        "id": "UACmgd4nTjh8",
        "colab_type": "code",
        "colab": {}
      },
      "source": [
        "install.packages(\"rjson\")\n",
        "install.packages(\"data.table\")"
      ],
      "execution_count": null,
      "outputs": []
    },
    {
      "cell_type": "markdown",
      "metadata": {
        "id": "gyKSvlgqA8dB",
        "colab_type": "text"
      },
      "source": [
        "Run the following cell everytime you open this file (every new session)"
      ]
    },
    {
      "cell_type": "code",
      "metadata": {
        "id": "ZkDBrXW9A4xo",
        "colab_type": "code",
        "colab": {}
      },
      "source": [
        "library(rjson)\n",
        "library(data.table)"
      ],
      "execution_count": null,
      "outputs": []
    },
    {
      "cell_type": "markdown",
      "metadata": {
        "id": "6XEjwbvlb-un",
        "colab_type": "text"
      },
      "source": [
        "**Exporting Data**\n",
        "\n",
        "To get SYP/USD rates; run the following cell. The data will be saved in the *syp_usd.csv* file in your Colab files storage. Click on the file icon at the left side here and scroll down to get the file, then you can download the file to your device easily."
      ]
    },
    {
      "cell_type": "code",
      "metadata": {
        "id": "o116SOXaavlO",
        "colab_type": "code",
        "colab": {}
      },
      "source": [
        "usd <- fromJSON(file = \"https://sp-today.com/ticker-news/currencies_json/us_dollar.json\")\n",
        " \n",
        "usd <- data.frame(do.call(rbind, usd))\n",
        "names(usd) <- c(\"Date\", \"Rate\")\n",
        "usd$Date <- as.Date.POSIXct(usd$Date)\n",
        "usd$Date <- as.Date.IDate(as.numeric(usd$Date)/1000)\n",
        " \n",
        "write.csv(usd, \"/syp_usd.csv\", row.names = F)"
      ],
      "execution_count": null,
      "outputs": []
    },
    {
      "cell_type": "markdown",
      "metadata": {
        "id": "51pqC8ejlV37",
        "colab_type": "text"
      },
      "source": [
        "To get EUR/SYP rates, saved in *syp_eur.csv* file:"
      ]
    },
    {
      "cell_type": "code",
      "metadata": {
        "id": "lkoMwI1GlSMe",
        "colab_type": "code",
        "colab": {}
      },
      "source": [
        "eur <- fromJSON(file = \"https://sp-today.com/ticker-news/currencies_json/euro.json\")\n",
        "\n",
        "eur <- data.frame(do.call(rbind, eur))\n",
        "names(eur) <- c(\"Date\", \"Rate\")\n",
        "eur$Date <- as.Date.POSIXct(eur$Date)\n",
        "eur$Date <- as.Date.IDate(as.numeric(eur$Date)/1000)\n",
        "\n",
        "write.csv(eur, \"/syp_eur.csv\", row.names = F)"
      ],
      "execution_count": null,
      "outputs": []
    },
    {
      "cell_type": "markdown",
      "metadata": {
        "id": "jaEgKuyEmsLH",
        "colab_type": "text"
      },
      "source": [
        "You can rerun the last two cells to update your data. Contact for any question.\n",
        "\n",
        "Samer Hasn \n",
        "\n",
        "LinkedIn: [@samerhasn](https://www.linkedin.com/in/samerhasn/)"
      ]
    }
  ]
}